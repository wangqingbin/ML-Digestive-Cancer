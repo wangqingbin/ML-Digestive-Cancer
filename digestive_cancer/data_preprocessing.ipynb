{
 "cells": [
  {
   "cell_type": "code",
   "execution_count": 9,
   "metadata": {},
   "outputs": [],
   "source": [
    "import numpy as np\n",
    "import pandas as pd\n",
    "import matplotlib.pyplot as plt\n",
    "import seaborn as sns\n",
    "from fractions import Fraction"
   ]
  },
  {
   "cell_type": "code",
   "execution_count": 10,
   "metadata": {},
   "outputs": [],
   "source": [
    "data = pd.read_excel(\"digestive_cancer.xlsx\")\n",
    "# 将NLR进行处理，对于存在空格的数据要进行划分，然后取值\n",
    "data['NLR'] = data['NLR'].astype(str)\n",
    "# 定义一个函数进行处理\n",
    "def NLRSplit(s):\n",
    "    # 如果s中存在空格，则进行划分\n",
    "    if ' ' in s:\n",
    "        nlr = float(s.split()[0]) / float(Fraction(s.split()[1]))\n",
    "        nlr = round(nlr, 3)\n",
    "    else:\n",
    "        nlr = float(s)\n",
    "    return nlr\n",
    "data['NLR'] = data['NLR'].apply(NLRSplit)\n",
    "# 取data的后5条数据\n",
    "data.tail()\n",
    "data.to_csv(\"digestive_cancer.csv\", index=False)\n",
    "\n",
    "\n",
    "\n",
    "# 将MSI和GeneMutation由float64的数据类型转化为int64\n",
    "# data['MSI'] = data['MSI'].astype(str)\n",
    "# data['GeneMutation'] = data['GeneMutation'].astype(str)\n",
    "# data.info()\n",
    "# data.head()"
   ]
  },
  {
   "cell_type": "code",
   "execution_count": null,
   "metadata": {},
   "outputs": [],
   "source": []
  }
 ],
 "metadata": {
  "kernelspec": {
   "display_name": "pytorch_bin",
   "language": "python",
   "name": "python3"
  },
  "language_info": {
   "codemirror_mode": {
    "name": "ipython",
    "version": 3
   },
   "file_extension": ".py",
   "mimetype": "text/x-python",
   "name": "python",
   "nbconvert_exporter": "python",
   "pygments_lexer": "ipython3",
   "version": "3.8.17"
  }
 },
 "nbformat": 4,
 "nbformat_minor": 2
}
